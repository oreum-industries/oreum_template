{
 "cells": [
  {
   "cell_type": "markdown",
   "id": "a71fef79-905f-45a7-9086-82a15d3a5ccc",
   "metadata": {},
   "source": [
    "# 000_Example_Project_Structure.ipynb\n",
    "\n",
    "Oreum Template Project **`oreum_template`**\n",
    "\n",
    "2022Q1\n",
    "\n",
    "---\n",
    "\n",
    "## Goals:\n",
    "\n",
    "\n",
    "\n",
    "## Contents\n",
    "\n",
    "+ [Setup](#Setup)\n",
    "\n",
    "+ []()\n",
    "\n",
    "+ []()\n",
    "\n",
    "---"
   ]
  },
  {
   "cell_type": "markdown",
   "id": "76cd2d3b-218e-4286-bfc5-2ac284767c29",
   "metadata": {},
   "source": [
    "# Setup"
   ]
  },
  {
   "cell_type": "markdown",
   "id": "07955987-c785-4c58-825c-783a81574061",
   "metadata": {},
   "source": [
    "## Imports"
   ]
  },
  {
   "cell_type": "code",
   "execution_count": 1,
   "id": "36150df4-f13f-41fb-98d5-8c22d996acb9",
   "metadata": {},
   "outputs": [],
   "source": [
    "# imports"
   ]
  },
  {
   "cell_type": "markdown",
   "id": "4a2ec93f-ce97-4276-8b40-6e91b04d121f",
   "metadata": {},
   "source": [
    "## Config"
   ]
  },
  {
   "cell_type": "code",
   "execution_count": 1,
   "id": "34a6ba11-6d16-4e92-8b95-26e94c884c47",
   "metadata": {},
   "outputs": [],
   "source": [
    "# inline configs\n",
    "\n",
    "# import external configs"
   ]
  },
  {
   "cell_type": "markdown",
   "id": "878782e5-3157-44e1-84fc-908e99e647a7",
   "metadata": {},
   "source": [
    "## Local Functions and Global Vars"
   ]
  },
  {
   "cell_type": "code",
   "execution_count": 3,
   "id": "59493a97-1414-47ce-b805-3eb1b28e95bb",
   "metadata": {},
   "outputs": [],
   "source": [
    "# local to the Notebook"
   ]
  },
  {
   "cell_type": "markdown",
   "id": "26416835-d658-48a5-93ed-7129cdcffa51",
   "metadata": {},
   "source": [
    "## Data Connections"
   ]
  },
  {
   "cell_type": "code",
   "execution_count": 4,
   "id": "55693b1d-e7f9-49d1-8303-e0b994dab87c",
   "metadata": {},
   "outputs": [],
   "source": [
    "# setup simple connectors to DBs or files"
   ]
  },
  {
   "cell_type": "markdown",
   "id": "667f301a-d43e-4074-a4db-c0c43e124078",
   "metadata": {},
   "source": [
    "---\n",
    "\n",
    "---"
   ]
  },
  {
   "cell_type": "markdown",
   "id": "d2cca3ef-cd65-45ca-8888-5a00319388bd",
   "metadata": {},
   "source": [
    "# 1. Section 1"
   ]
  },
  {
   "cell_type": "markdown",
   "id": "e5af28df",
   "metadata": {},
   "source": [
    "Discussion"
   ]
  },
  {
   "cell_type": "code",
   "execution_count": null,
   "id": "bb8708b7",
   "metadata": {},
   "outputs": [],
   "source": [
    "# code"
   ]
  },
  {
   "cell_type": "markdown",
   "id": "3f1b38d8-c076-427e-b012-64ed71428e11",
   "metadata": {},
   "source": [
    "---\n",
    "\n",
    "---"
   ]
  },
  {
   "cell_type": "markdown",
   "id": "e3969c0d-6333-4c99-bc90-88fcd9ae7ae6",
   "metadata": {},
   "source": [
    "# Notes"
   ]
  },
  {
   "cell_type": "code",
   "execution_count": null,
   "id": "2b10ff83",
   "metadata": {},
   "outputs": [],
   "source": [
    "# %load_ext watermark\n",
    "# %watermark -a \"<EMAIL>\" -udtmv -iv"
   ]
  },
  {
   "cell_type": "markdown",
   "id": "46052233-706d-4f6b-8613-e5edfbe14d6c",
   "metadata": {},
   "source": [
    "---\n",
    "Oreum OÜ &copy; 2021"
   ]
  }
 ],
 "metadata": {
  "kernelspec": {
   "display_name": "Python 3 (ipykernel)",
   "language": "python",
   "name": "python3"
  },
  "language_info": {
   "codemirror_mode": {
    "name": "ipython",
    "version": 3
   },
   "file_extension": ".py",
   "mimetype": "text/x-python",
   "name": "python",
   "nbconvert_exporter": "python",
   "pygments_lexer": "ipython3",
   "version": "3.9.6"
  }
 },
 "nbformat": 4,
 "nbformat_minor": 5
}
